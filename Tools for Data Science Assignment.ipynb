{
 "cells": [
  {
   "cell_type": "markdown",
   "id": "11f7fe3a",
   "metadata": {},
   "source": [
    "Nic's Jupyter Notebook on IBM Watson Studio"
   ]
  },
  {
   "cell_type": "markdown",
   "id": "6cb9a335",
   "metadata": {},
   "source": [
    "\"Nicholas\"\n",
    "Data Scientist"
   ]
  },
  {
   "cell_type": "markdown",
   "id": "6e1397ef",
   "metadata": {},
   "source": [
    "*Reason why i want to study data science is because there is a lot of data which has yet to been fully futilize and the country that im from has very little number of data scientist to do it."
   ]
  },
  {
   "cell_type": "markdown",
   "id": "a017cb3a",
   "metadata": {},
   "source": [
    "The code below will be used to calculate the sum of 10+10"
   ]
  },
  {
   "cell_type": "code",
   "execution_count": 1,
   "id": "7abec07f",
   "metadata": {},
   "outputs": [
    {
     "data": {
      "text/plain": [
       "20"
      ]
     },
     "execution_count": 1,
     "metadata": {},
     "output_type": "execute_result"
    }
   ],
   "source": [
    "10+10\n"
   ]
  },
  {
   "cell_type": "markdown",
   "id": "b0861c5a",
   "metadata": {},
   "source": [
    "[Youtube](http://www.youtube.com)\n",
    "\n",
    "1. My name is Nic\n",
    "2. Nice to  meet you\n",
    "\n",
    "- I'm currently learning Data Science"
   ]
  }
 ],
 "metadata": {
  "kernelspec": {
   "display_name": "Python 3 (ipykernel)",
   "language": "python",
   "name": "python3"
  },
  "language_info": {
   "codemirror_mode": {
    "name": "ipython",
    "version": 3
   },
   "file_extension": ".py",
   "mimetype": "text/x-python",
   "name": "python",
   "nbconvert_exporter": "python",
   "pygments_lexer": "ipython3",
   "version": "3.9.12"
  }
 },
 "nbformat": 4,
 "nbformat_minor": 5
}
